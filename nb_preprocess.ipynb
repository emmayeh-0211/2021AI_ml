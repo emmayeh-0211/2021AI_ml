{
  "nbformat": 4,
  "nbformat_minor": 0,
  "metadata": {
    "colab": {
      "name": "nb_preprocess.ipynb",
      "provenance": [],
      "authorship_tag": "ABX9TyPMqKv6UPsa2NzYEyXoTG4S",
      "include_colab_link": true
    },
    "kernelspec": {
      "name": "python3",
      "display_name": "Python 3"
    },
    "language_info": {
      "name": "python"
    }
  },
  "cells": [
    {
      "cell_type": "markdown",
      "metadata": {
        "id": "view-in-github",
        "colab_type": "text"
      },
      "source": [
        "<a href=\"https://colab.research.google.com/github/emmayeh-0211/2021AI_ml/blob/main/nb_preprocess.ipynb\" target=\"_parent\"><img src=\"https://colab.research.google.com/assets/colab-badge.svg\" alt=\"Open In Colab\"/></a>"
      ]
    },
    {
      "cell_type": "code",
      "metadata": {
        "colab": {
          "base_uri": "https://localhost:8080/"
        },
        "id": "6k8imeEuWwE3",
        "outputId": "b772c5bc-3383-4a50-c3c6-9aa68998d79d"
      },
      "source": [
        "!pip install opencc-python-reimplemented"
      ],
      "execution_count": 4,
      "outputs": [
        {
          "output_type": "stream",
          "text": [
            "Requirement already satisfied: opencc-python-reimplemented in /usr/local/lib/python3.7/dist-packages (0.1.6)\n"
          ],
          "name": "stdout"
        }
      ]
    },
    {
      "cell_type": "code",
      "metadata": {
        "id": "MKGLMog7Ye_J"
      },
      "source": [
        "to_convert = \"\"\"训练词向量等一些任务的时候，往往需要一些较大规模的中文语料，而维基百科语料是一个很好的选择。维基百科每段时间都会备份数据，我们可以选择不同时间段的语料来下载使用。​\n",
        "\n",
        "1.下载维基百科语料\n",
        "下面就是维基百科的语料的下载地址：\"\"\""
      ],
      "execution_count": 5,
      "outputs": []
    },
    {
      "cell_type": "code",
      "metadata": {
        "colab": {
          "base_uri": "https://localhost:8080/",
          "height": 69
        },
        "id": "UesHAd2sXfLT",
        "outputId": "c56ea034-3a43-434c-b073-64fe4afd86eb"
      },
      "source": [
        "from opencc import OpenCC\n",
        "cc = OpenCC('s2tw') # 從什麼語系轉換成什麼語系\n",
        "converted = cc.convert(to_convert) # 括號內要放要轉換的字串\n",
        "converted"
      ],
      "execution_count": 6,
      "outputs": [
        {
          "output_type": "execute_result",
          "data": {
            "application/vnd.google.colaboratory.intrinsic+json": {
              "type": "string"
            },
            "text/plain": [
              "'訓練詞向量等一些任務的時候，往往需要一些較大規模的中文語料，而維基百科語料是一個很好的選擇。維基百科每段時間都會備份數據，我們可以選擇不同時間段的語料來下載使用。\\u200b\\n\\n1.下載維基百科語料\\n下面就是維基百科的語料的下載地址：'"
            ]
          },
          "metadata": {
            "tags": []
          },
          "execution_count": 6
        }
      ]
    },
    {
      "cell_type": "code",
      "metadata": {
        "colab": {
          "base_uri": "https://localhost:8080/",
          "height": 69
        },
        "id": "-7rBAcKOfF9D",
        "outputId": "52c036ed-c755-4464-dd53-6b71fe123a15"
      },
      "source": [
        "with open('./news.txt', 'r', encoding='utf-8') as f:\n",
        "  content = f.read()\n",
        "content"
      ],
      "execution_count": 7,
      "outputs": [
        {
          "output_type": "execute_result",
          "data": {
            "application/vnd.google.colaboratory.intrinsic+json": {
              "type": "string"
            },
            "text/plain": [
              "'台北市內湖區壹電視大樓7日有一名男攝影師倒臥廁所，明顯死亡，經警方通報衛生單位並進行刑事相驗，昨（8日）晚PCR檢測結果出爐，顯示男攝影師確診新冠肺炎，大樓緊急清消，就連當天派員處理的派出所也漏夜消毒。對此，壹電視回應，今（9）日將在大樓中庭設置快篩站，協助全體員工快篩。'"
            ]
          },
          "metadata": {
            "tags": []
          },
          "execution_count": 7
        }
      ]
    },
    {
      "cell_type": "code",
      "metadata": {
        "colab": {
          "base_uri": "https://localhost:8080/"
        },
        "id": "SgujtbFwiVWZ",
        "outputId": "78a085f3-ae6c-4353-e961-68317a93af5c"
      },
      "source": [
        "import jieba.analyse # 中國出的詞彙分析語言包，已有內建的常用詞彙\n",
        "# jieba.analyse 分析詞彙出現次數的結果，有多種參數可以設定去調整要計算的文字次數\n",
        "# topK 要列出幾個top幾出現的詞彙，初始設定是20，可以更改數量，或是設為None，代表全部列出，由高到低\n",
        "print(jieba.analyse.extract_tags(content)) # 分析content中，不同詞彙出現的次數結果\n",
        "print(jieba.analyse.extract_tags(content, topK=5, allowPOS=('n'))) # 透過修改內建參數，得出不同結果，or特定想知道的結果\n",
        "\n"
      ],
      "execution_count": 9,
      "outputs": [
        {
          "output_type": "stream",
          "text": [
            "Building prefix dict from the default dictionary ...\n",
            "Dumping model to file cache /tmp/jieba.cache\n",
            "Loading model cost 1.011 seconds.\n",
            "Prefix dict has been built successfully.\n"
          ],
          "name": "stderr"
        },
        {
          "output_type": "stream",
          "text": [
            "['大樓', '男攝', '影師', '漏夜', '湖區', '電視', '日有', '廁所', '明顯', '通報', '衛生', '單位', '並進行', '相驗', 'PCR', '檢測', '結果', '出爐', '顯示', '確診']\n",
            "['大樓', '電視', '攝影師', '廁所', '通報']\n"
          ],
          "name": "stdout"
        }
      ]
    },
    {
      "cell_type": "code",
      "metadata": {
        "colab": {
          "base_uri": "https://localhost:8080/"
        },
        "id": "9ea6s70GoxuB",
        "outputId": "1bdc234c-0806-4c93-cc20-287e9cd583a3"
      },
      "source": [
        "# 將jieba的繁體中文字典下載下來使用\n",
        "from urllib.request import urlretrieve\n",
        "url = \"https://github.com/fxsjy/jieba/raw/master/extra_dict/dict.txt.big\"\n",
        "urlretrieve(url, 'dict.txt.big')"
      ],
      "execution_count": 10,
      "outputs": [
        {
          "output_type": "execute_result",
          "data": {
            "text/plain": [
              "('dict.txt.big', <http.client.HTTPMessage at 0x7f67e744f750>)"
            ]
          },
          "metadata": {
            "tags": []
          },
          "execution_count": 10
        }
      ]
    },
    {
      "cell_type": "code",
      "metadata": {
        "colab": {
          "base_uri": "https://localhost:8080/"
        },
        "id": "v55VrsylprPN",
        "outputId": "42aac8ea-439b-4ab7-f1fc-a4e62f9c7c35"
      },
      "source": [
        "import jieba\n",
        "c = \" \".join(jieba.cut(content))\n",
        "print(\"使用jieba內建辭典將文本分割的結果：\", c)\n",
        "print(\"-\" * 30)\n",
        "jieba.set_dictionary(\"dict.txt.big\") # 重設分析用的辭典\n",
        "c = \" \".join(jieba.cut(content))\n",
        "print(\"使用dict.txt.big辭典將文本分割的結果：\", c)"
      ],
      "execution_count": 14,
      "outputs": [
        {
          "output_type": "stream",
          "text": [
            "Building prefix dict from /content/dict.txt.big ...\n"
          ],
          "name": "stderr"
        },
        {
          "output_type": "stream",
          "text": [
            "使用jieba內建辭典將文本分割的結果： 台北市 內 湖區 壹 電視 大樓 7 日有 一名 男攝 影師 倒 臥 廁所 ， 明顯 死亡 ， 經 警方 通報 衛生 單位 並進行 刑事 相驗 ， 昨 （ 8 日 ） 晚 PCR 檢測 結果 出爐 ， 顯示 男攝 影師 確診 新冠 肺炎 ， 大樓 緊急 清消 ， 就 連當天 派員 處理 的 派出所 也 漏夜 消毒 。 對此 ， 壹電視 回應 ， 今 （ 9 ） 日將 在 大樓 中庭 設置 快 篩站 ， 協助 全體員 工快 篩 。\n",
            "------------------------------\n"
          ],
          "name": "stdout"
        },
        {
          "output_type": "stream",
          "text": [
            "Dumping model to file cache /tmp/jieba.u501edca284da514cb68b53a20324f4e3.cache\n",
            "Loading model cost 1.764 seconds.\n",
            "Prefix dict has been built successfully.\n"
          ],
          "name": "stderr"
        },
        {
          "output_type": "stream",
          "text": [
            "使用dict.txt.big辭典將文本分割的結果： 台北市 內湖區 壹 電視 大樓 7 日有 一名 男 攝影師 倒臥 廁所 ， 明顯 死亡 ， 經警 方 通報 衛生 單位 並 進行 刑事 相驗 ， 昨 （ 8 日 ） 晚 PCR 檢測 結果 出爐 ， 顯示 男 攝影師 確診 新冠 肺炎 ， 大樓 緊急 清消 ， 就連 當天 派員 處理 的 派出所 也 漏夜 消毒 。 對此 ， 壹 電視 回應 ， 今 （ 9 ） 日將 在 大樓 中庭 設置 快 篩站 ， 協助 全體 員工 快 篩 。\n"
          ],
          "name": "stdout"
        }
      ]
    },
    {
      "cell_type": "code",
      "metadata": {
        "colab": {
          "base_uri": "https://localhost:8080/"
        },
        "id": "KpTapEW0tEKc",
        "outputId": "f6383e99-ac16-46cb-c733-0a39be72f88c"
      },
      "source": [
        "jieba.load_userdict(\"mydict.txt\") # 增加其他辭典、擴充辭典\n",
        "c = \" \".join(jieba.cut(content))\n",
        "print(\"多加入mydict.txt辭典將文本分割的結果：\", c)"
      ],
      "execution_count": 18,
      "outputs": [
        {
          "output_type": "stream",
          "text": [
            "多加入mydict.txt辭典將文本分割的結果： 台北市 內湖區 壹電視 大樓 7日 有 一名 男 攝影師 倒臥 廁所 ， 明顯 死亡 ， 經警 方 通報 衛生 單位 並 進行 刑事 相驗 ， 昨 （ 8 日 ） 晚 PCR 檢測 結果 出爐 ， 顯示 男 攝影師 確診 新冠 肺炎 ， 大樓 緊急 清消 ， 就連 當天 派員 處理 的 派出所 也 漏夜 消毒 。 對此 ， 壹電視 回應 ， 今 （ 9 ） 日將 在 大樓 中庭 設置 快篩站 ， 協助 全體 員工 快篩 。\n"
          ],
          "name": "stdout"
        }
      ]
    },
    {
      "cell_type": "code",
      "metadata": {
        "colab": {
          "base_uri": "https://localhost:8080/"
        },
        "id": "SsujgHfOuXJr",
        "outputId": "13b6869f-5cc3-418c-8b9c-51ba19bb01b3"
      },
      "source": [
        "# 更改完參考的辭典後，重新分析的文字權重結果\n",
        "print(jieba.analyse.extract_tags(content))"
      ],
      "execution_count": 16,
      "outputs": [
        {
          "output_type": "stream",
          "text": [
            "['大樓', '壹電視', '攝影師', '漏夜', '內湖區', '7日', '倒臥', '廁所', '明顯', '經警', '通報', '衛生', '單位', '進行', '相驗', 'PCR', '檢測', '結果', '出爐', '顯示']\n"
          ],
          "name": "stdout"
        }
      ]
    }
  ]
}