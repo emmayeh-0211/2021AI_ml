{
  "nbformat": 4,
  "nbformat_minor": 0,
  "metadata": {
    "colab": {
      "name": "poem.ipynb",
      "provenance": [],
      "authorship_tag": "ABX9TyPTrhtgVwOj+qanRbXXSDoZ",
      "include_colab_link": true
    },
    "kernelspec": {
      "name": "python3",
      "display_name": "Python 3"
    },
    "language_info": {
      "name": "python"
    }
  },
  "cells": [
    {
      "cell_type": "markdown",
      "metadata": {
        "id": "view-in-github",
        "colab_type": "text"
      },
      "source": [
        "<a href=\"https://colab.research.google.com/github/emmayeh-0211/2021AI_ml/blob/main/poem.ipynb\" target=\"_parent\"><img src=\"https://colab.research.google.com/assets/colab-badge.svg\" alt=\"Open In Colab\"/></a>"
      ]
    },
    {
      "cell_type": "code",
      "metadata": {
        "colab": {
          "base_uri": "https://localhost:8080/"
        },
        "id": "cjrzE0v7xtYB",
        "outputId": "da12bd28-c401-451a-b364-a869176b6a2a"
      },
      "source": [
        "# 將要分析訓練的文本，使用urllib.request函式庫，從網路上將資料抓回來，存回本地端\n",
        "from urllib.request import urlretrieve\n",
        "url = \"https://github.com/Elwing-Chou/ml0602/raw/main/poem_train.csv\"\n",
        "urlretrieve(url, \"train.csv\")\n",
        "url = \"https://github.com/Elwing-Chou/ml0602/raw/main/poem_test.csv\"\n",
        "urlretrieve(url, \"test.csv\")"
      ],
      "execution_count": 2,
      "outputs": [
        {
          "output_type": "execute_result",
          "data": {
            "text/plain": [
              "('test.csv', <http.client.HTTPMessage at 0x7fa403e10e50>)"
            ]
          },
          "metadata": {
            "tags": []
          },
          "execution_count": 2
        }
      ]
    },
    {
      "cell_type": "code",
      "metadata": {
        "id": "pPo5qABryoz4"
      },
      "source": [
        "# 將要訓練跟測試的資料，使用pandas函式庫讀取\n",
        "import pandas as pd\n",
        "train = pd.read_csv(\"train.csv\", encoding='utf-8')\n",
        "test = pd.read_csv(\"test.csv\", encoding='utf-8')"
      ],
      "execution_count": 4,
      "outputs": []
    },
    {
      "cell_type": "code",
      "metadata": {
        "colab": {
          "base_uri": "https://localhost:8080/"
        },
        "id": "mPNGKQzYzD7o",
        "outputId": "76e3accd-8003-4d6e-e5ae-78433b9f2d45"
      },
      "source": [
        "# 分類：輸出結果要呈現 0 1 2 3 數字\n",
        "# series.replace(字典)，pandas的內建功能，用字典的形式來進行取代，將key值取代成key內的value值\n",
        "# {李白}\n",
        "# pandas 裡有兩個函式功能 unique / value_counts\n",
        "# unique:列出有幾種\n",
        "# value_counts 列出每一種 有幾個\n",
        "u = train[\"作者\"].unique()\n",
        "print(\"列出有幾種\", u)\n",
        "# 將類別使用字典生成式 輸出成字典形式，而需要的數字就用enumerate的index值來產出\n",
        "# enumerate用法：\n",
        "name2index = {n:i for i, n in enumerate(u)}\n",
        "index2name = {i:n for i, n in enumerate(u)}\n",
        "print(name2index)\n",
        "print(index2name)\n",
        "# 產出需要取代的詞彙跟對應的數字(by index產出)的字典後，使用replace功能開始做取代\n",
        "# 使用pandas replace後，需要給定變數去承接replace後的結果\n",
        "# 因為pandas的replace不會去修改原本的資料，而是返回一個新的資料\n",
        "y_train = train[\"作者\"].replace(name2index)\n",
        "y_test = test[\"作者\"].replace(name2index)\n",
        "y_test"
      ],
      "execution_count": 12,
      "outputs": [
        {
          "output_type": "stream",
          "text": [
            "列出有幾種 ['李白' '杜甫' '白居易']\n",
            "{'李白': 0, '杜甫': 1, '白居易': 2}\n",
            "{0: '李白', 1: '杜甫', 2: '白居易'}\n"
          ],
          "name": "stdout"
        },
        {
          "output_type": "execute_result",
          "data": {
            "text/plain": [
              "0     0\n",
              "1     0\n",
              "2     0\n",
              "3     0\n",
              "4     0\n",
              "5     0\n",
              "6     0\n",
              "7     0\n",
              "8     0\n",
              "9     0\n",
              "10    1\n",
              "11    1\n",
              "12    1\n",
              "13    1\n",
              "14    1\n",
              "15    1\n",
              "16    1\n",
              "17    1\n",
              "18    1\n",
              "19    1\n",
              "20    2\n",
              "21    2\n",
              "22    2\n",
              "23    2\n",
              "24    2\n",
              "25    2\n",
              "26    2\n",
              "27    2\n",
              "28    2\n",
              "29    2\n",
              "Name: 作者, dtype: int64"
            ]
          },
          "metadata": {
            "tags": []
          },
          "execution_count": 12
        }
      ]
    }
  ]
}