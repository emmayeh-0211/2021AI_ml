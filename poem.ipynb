{
  "nbformat": 4,
  "nbformat_minor": 0,
  "metadata": {
    "colab": {
      "name": "poem.ipynb",
      "provenance": [],
      "authorship_tag": "ABX9TyPNolpAm/x4QgCoDyfZ7zvg",
      "include_colab_link": true
    },
    "kernelspec": {
      "name": "python3",
      "display_name": "Python 3"
    },
    "language_info": {
      "name": "python"
    }
  },
  "cells": [
    {
      "cell_type": "markdown",
      "metadata": {
        "id": "view-in-github",
        "colab_type": "text"
      },
      "source": [
        "<a href=\"https://colab.research.google.com/github/emmayeh-0211/2021AI_ml/blob/main/poem.ipynb\" target=\"_parent\"><img src=\"https://colab.research.google.com/assets/colab-badge.svg\" alt=\"Open In Colab\"/></a>"
      ]
    },
    {
      "cell_type": "code",
      "metadata": {
        "colab": {
          "base_uri": "https://localhost:8080/"
        },
        "id": "cjrzE0v7xtYB",
        "outputId": "b4a5abf9-6401-4fb1-a11a-659f14b47738"
      },
      "source": [
        "# 將要分析訓練的文本，使用urllib.request函式庫，從網路上將資料抓回來，存回本地端\n",
        "from urllib.request import urlretrieve\n",
        "url = \"https://github.com/Elwing-Chou/ml0602/raw/main/poem_train.csv\"\n",
        "urlretrieve(url, \"train.csv\")\n",
        "url = \"https://github.com/Elwing-Chou/ml0602/raw/main/poem_test.csv\"\n",
        "urlretrieve(url, \"test.csv\")"
      ],
      "execution_count": 64,
      "outputs": [
        {
          "output_type": "execute_result",
          "data": {
            "text/plain": [
              "('test.csv', <http.client.HTTPMessage at 0x7fa91a1f9b50>)"
            ]
          },
          "metadata": {
            "tags": []
          },
          "execution_count": 64
        }
      ]
    },
    {
      "cell_type": "code",
      "metadata": {
        "id": "pPo5qABryoz4"
      },
      "source": [
        "# 將要訓練跟測試的資料，使用pandas函式庫讀取\n",
        "import pandas as pd\n",
        "train = pd.read_csv(\"train.csv\", encoding='utf-8')\n",
        "test = pd.read_csv(\"test.csv\", encoding='utf-8')"
      ],
      "execution_count": 65,
      "outputs": []
    },
    {
      "cell_type": "code",
      "metadata": {
        "colab": {
          "base_uri": "https://localhost:8080/"
        },
        "id": "mPNGKQzYzD7o",
        "outputId": "7043bf82-a548-4f4c-eaf9-8c5634131f5e"
      },
      "source": [
        "# 分類：輸出結果要呈現 0 1 2 3 數字\n",
        "# series.replace(字典)，pandas的內建功能，用字典的形式來進行取代，將key值取代成key內的value值\n",
        "# {李白}\n",
        "# pandas 裡有兩個函式功能 unique / value_counts\n",
        "# unique:列出有幾種\n",
        "# value_counts 列出每一種 有幾個\n",
        "u = train[\"作者\"].unique()\n",
        "print(\"列出有幾種\", u)\n",
        "# 將類別使用字典生成式 輸出成字典形式，而需要的數字就用enumerate的index值來產出\n",
        "# enumerate用法：\n",
        "name2index = {n:i for i, n in enumerate(u)}\n",
        "index2name = {i:n for i, n in enumerate(u)}\n",
        "print(name2index)\n",
        "print(index2name)\n",
        "# 產出需要取代的詞彙跟對應的數字(by index產出)的字典後，使用replace功能開始做取代\n",
        "# 使用pandas replace後，需要給定變數去承接replace後的結果\n",
        "# 因為pandas的replace不會去修改原本的資料，而是返回一個新的資料\n",
        "y_train = train[\"作者\"].replace(name2index)\n",
        "y_test = test[\"作者\"].replace(name2index)\n"
      ],
      "execution_count": 66,
      "outputs": [
        {
          "output_type": "stream",
          "text": [
            "列出有幾種 ['李白' '杜甫' '白居易']\n",
            "{'李白': 0, '杜甫': 1, '白居易': 2}\n",
            "{0: '李白', 1: '杜甫', 2: '白居易'}\n"
          ],
          "name": "stdout"
        }
      ]
    },
    {
      "cell_type": "code",
      "metadata": {
        "colab": {
          "base_uri": "https://localhost:8080/"
        },
        "id": "F3UteTUQfqgp",
        "outputId": "73e9daf0-1e13-4f66-ed90-b2f447c2ca2c"
      },
      "source": [
        "# series.apply 的功能就是當我們呼叫func的時候不用加小括號，就直接對前面的series執行fun的功能(func不加小括號)!也是就是用apply時不能加小括號!\n",
        "# 詩詞分類分類載入大辭典進行分析反而不適合，一般文本則是都是載入大辭典來分析\n",
        "\n",
        "# 先將 x_train跟x_test的文本用jeiba的文本分析進行詞彙切割\n",
        "import jieba\n",
        "def poemcut(p):\n",
        "  return \" \".join(jieba.cut(p))\n",
        "x_train = train['內容'].apply(poemcut)\n",
        "x_test = test['內容'].apply(poemcut)\n",
        "print(\"x_train切割的結果\\n\", x_train)\n",
        "print(\"-\" * 30)\n",
        "print(\"x_test切割的結果\\n\", x_test)"
      ],
      "execution_count": 67,
      "outputs": [
        {
          "output_type": "stream",
          "text": [
            "x_train切割的結果\n",
            " 0       平林 漠漠 煙如織 ， 寒山 一帶 傷心 碧 。 \\r\\n 暝 色入 高樓 ， 有人 樓上 ...\n",
            "1       青天 有 月 來 幾時 ， 我今 停杯 一問 之 ： 人攀 明月 不可 得 ， 月行 卻 與...\n",
            "2       燕草 如碧絲 ， 秦桑低 綠枝 。 當君 懷歸日 ， 是 妾 斷腸時 。 春風 不 相識 ，...\n",
            "3       誰 家玉笛 暗飛聲 ， 散 入春 風滿 洛城 。 此 夜曲 中聞折 柳 ， 何人 不起 故園情 。\n",
            "4       西上 蓮 花山 ， 迢迢 見 明星 。 ( 西 上   一作 ： 西 嶽 ) 素 手把 芙蓉...\n",
            "                              ...                        \n",
            "2726    零落 桐葉雨 ， 蕭條 槿 花風 。 悠悠 早 秋意 ， 生此 幽閒 中 。 況 與 故人 ...\n",
            "2727    離離 暑雲散 ， 嫋嫋 涼風起 。 池上 秋 又 來 ， 荷花 半成 子 。 朱顏易銷 歇 ...\n",
            "2728    涼風 冷露 蕭索天 ， 黃 蒿 紫菊荒 涼田 。 繞 塚 秋花少 顏色 ， 細蟲 小蝶飛 翻...\n",
            "2729    往歲 曾 為 西邑吏 ， 慣 從 駱口 到 南秦 。 \\r\\n 三時 雲冷多 飛雪 ， 二月...\n",
            "2730    笛 竹出 蘄 春 ， 霜刀 劈翠筠 。 織成 雙鎖 簟 ， 寄 與 獨眠 人 。 卷作筒 中...\n",
            "Name: 內容, Length: 2731, dtype: object\n",
            "------------------------------\n",
            "x_test切割的結果\n",
            " 0      日照 香爐生 紫煙 ， 遙看 瀑布 掛 前川 。 飛流 直下 三千尺 ， 疑是 銀河 落九天 。\n",
            "1     朝辭 白帝 彩雲間 ， 千裡 江陵 一日 還 。 兩岸 猿聲 啼 不住 ， 輕舟 已過 萬 ...\n",
            "2      李白 乘舟 將欲行 ， 忽聞 岸上 踏歌 聲 。 桃花潭水 深 千尺 ， 不及 汪倫送 我情 。\n",
            "3       故人 西辭黃鶴樓 ， 煙花 三月 下揚州 。 孤帆 遠影 碧空 儘 ， 唯見長 江天 際流 。\n",
            "4                 危樓 高 百尺 ， 手可摘 星辰 。 不敢 高聲語 ， 恐驚 天上 人 。\n",
            "5                  床前 明月光 ， 疑是 地上 霜 。 舉頭 望明月 ， 低頭思 故鄉 。\n",
            "6     天門 中斷 楚江 開 ， 碧水 東流 至此 回 。 兩岸 青山 相對 出 ， 孤帆 一片 日...\n",
            "7               眾鳥 高 飛 儘 ， 孤雲獨 去 閒 。 相看 兩不厭 ， 隻 有 敬亭山 。\n",
            "8     鳳凰 台上 鳳凰遊 ， 鳳去 台空江 自流 。 吳宮 花草 埋 幽徑 ， 晉代 衣冠 成古丘...\n",
            "9     渡遠 荊門外 ， 來 從 楚國遊 。 山 隨 平野 儘 ， 江入 大荒 流 。 月 下 飛天...\n",
            "10    百川 日東流 ， 客去 亦 不息 。 我 生苦 漂 蕩 ， 何時 有 終極 。 讚 公 釋 ...\n",
            "11    細泉 兼 輕冰 ， 沮洳 棧道 濕 。 不辭 辛苦 行 ， 迫此 短景急 。 石門 雪雲隘 ...\n",
            "12    首路 栗亭 西 ， 尚想 鳳凰村 。 季冬 攜 童稚 ， 辛苦 赴 蜀門 。 南登 木皮 嶺...\n",
            "13    落日 在 簾 鉤 ， 溪邊 春事幽 。 芳菲 緣岸 圃 ， 樵 爨 倚灘 舟 。 啅 雀 爭...\n",
            "14    竇侍 禦 ， 驥 之子 ， 鳳之雛 。 年 未 三十 忠義俱 ， 骨鯁 絕代 無 。 炯 如...\n",
            "15    百草 競春華 ， 麗春應 最勝 。 少須 好 顏色 ， 多漫枝條 剩 。 紛紛 桃李 枝 ，...\n",
            "16    何年 顧虎頭 ， 滿壁畫 瀛州 。 赤 日 石林 氣 ， 青天 江海 流 。 錫飛常 近鶴 ...\n",
            "17    野寺 隱喬木 ， 山僧 高下 居 。 石門 日色異 ， 絳 氣橫 扶疏 。 窈窕 入風 磴 ...\n",
            "18    西川 有 杜鵑 ， 東川 無 杜鵑 。 涪萬 無 杜鵑 ， 雲安有 杜鵑 。 我 昔遊錦城 ...\n",
            "19    小奴 縛雞 向 市 賣 ， 雞 被縛 急 相 喧爭 。 家中 厭雞 食蟲 蟻 ， 不知 雞賣...\n",
            "20    管妙 弦 清歌 入 雲 ， 老人 合眼 醉醺醺 。 誠知 不及 當年 聽 ， 猶覺 聞時 勝...\n",
            "21    追歡 逐樂少 閒時 ， 補帖 平生 得事遲 。 何處 花開 曾後看 ？ 誰家 酒熟 不 先知...\n",
            "22    歲 陰生計 兩 蹉跎 ， 相顧 悠悠 醉且 歌 。 廚冷 難留 烏止 屋 ， 門閒 可 與 ...\n",
            "23    雨 砌 長 寒蕪 ， 風庭 落秋果 。 窗間 有 閒叟 ， 儘 日 看 書 坐 。 書中見 ...\n",
            "24    睡足 肢體 暢 ， 晨起 開 中堂 。 初旭泛 簾幕 ， 微風 拂 衣裳 。 二婢 扶 盥櫛...\n",
            "25    履道 西門 有 弊居 ， 池塘 竹樹繞 君廬 。 豪華肥壯 雖無分 ， 飽暖安閒 即 有 餘...\n",
            "26    昨日 複 今辰 ， 悠悠 七十 春 。 所經 多 故處 ， 卻 想 似 前身 。 散 秩優遊...\n",
            "27    不 與 老為期 ， 因何 兩鬢絲 ？ 才 應免 夭促 ， 便 已 及 衰 羸 。 昨夜 夢 ...\n",
            "28    暖床 斜 臥日 曛 腰 ， 一覺 閒眠 百病 銷 。 儘 日 一 飧 茶 兩 碗 ， 更無所...\n",
            "29    選石 鋪 新路 ， 安橋 壓古堤 。 似 從 銀漢下 ， 落傍玉 川西 。 影定 欄杆 倒 ...\n",
            "Name: 內容, dtype: object\n"
          ],
          "name": "stdout"
        }
      ]
    },
    {
      "cell_type": "markdown",
      "metadata": {
        "id": "xxndWVP44RBN"
      },
      "source": [
        "CountVectorizer()函式\n",
        "\n",
        "CountVectorizer()函式只考慮每個單詞出現的頻率；然後構成一個特徵矩陣，每一行表示一個訓練文字的詞頻統計結果。其思想是，先根據所有訓練文字，不考慮其出現順序，只將訓練文字中每個出現過的詞彙單獨視為一列特徵，構成一個詞彙表(vocabulary list)，該方法又稱為詞袋法(Bag of Words)。"
      ]
    },
    {
      "cell_type": "code",
      "metadata": {
        "colab": {
          "base_uri": "https://localhost:8080/"
        },
        "id": "BATlZEqCjC3K",
        "outputId": "97bd09f1-34db-4e14-8601-d150f6805836"
      },
      "source": [
        "# 使用sklearn的CountVectorizer 函式？模組？\n",
        "# CountVectorizer \n",
        "# 將 train的資料 放入fit，去找出欄之間有幾種\n",
        "from sklearn.feature_extraction.text import CountVectorizer\n",
        "vec = CountVectorizer()\n",
        "vec.fit(x_train)\n",
        "# fit(raw_documents) Learn a vocabulary dictionary of all tokens in the raw documents.\n",
        "len(vec.vocabulary_)\n",
        "# vocabulary_:A mapping of terms to feature indices."
      ],
      "execution_count": 68,
      "outputs": [
        {
          "output_type": "execute_result",
          "data": {
            "text/plain": [
              "52294"
            ]
          },
          "metadata": {
            "tags": []
          },
          "execution_count": 68
        }
      ]
    },
    {
      "cell_type": "code",
      "metadata": {
        "colab": {
          "base_uri": "https://localhost:8080/"
        },
        "id": "qKADdjdOnl_S",
        "outputId": "31345d6b-ac2a-449b-d237-e94d46cb5b6e"
      },
      "source": [
        "# 稀疏矩陣：把有值的東西存起來，其他空值的不存，資料筆數會比較少\n",
        "# 上面已進行過fit，再使用transform，就會將剛剛fit的參數、欄位，放入transform去做轉換資料\n",
        "# 轉換後的資料得出以下結果：第一個是數字是第幾首詩，第二個數字是第幾個欄位，第三個數字是出現的次數\n",
        "x_train_count = vec.transform(x_train)\n",
        "x_test_count = vec.transform(x_test)\n",
        "x_train_count"
      ],
      "execution_count": 69,
      "outputs": [
        {
          "output_type": "execute_result",
          "data": {
            "text/plain": [
              "<2731x52294 sparse matrix of type '<class 'numpy.int64'>'\n",
              "\twith 85677 stored elements in Compressed Sparse Row format>"
            ]
          },
          "metadata": {
            "tags": []
          },
          "execution_count": 69
        }
      ]
    },
    {
      "cell_type": "code",
      "metadata": {
        "colab": {
          "base_uri": "https://localhost:8080/",
          "height": 202
        },
        "id": "l8OV8RS8sytP",
        "outputId": "95ed51cc-843d-4719-9820-ea732bca953a"
      },
      "source": [
        "# 檢查標點符號， \\r \\n  。\n",
        "# 跑KeyError代表vocabulary_內沒有它，代表沒有被辨識成詞彙，這正是我們要的結果\n",
        "vec.vocabulary_[\" 。\"]"
      ],
      "execution_count": 70,
      "outputs": [
        {
          "output_type": "error",
          "ename": "KeyError",
          "evalue": "ignored",
          "traceback": [
            "\u001b[0;31m---------------------------------------------------------------------------\u001b[0m",
            "\u001b[0;31mKeyError\u001b[0m                                  Traceback (most recent call last)",
            "\u001b[0;32m<ipython-input-70-e5e9720ee9c1>\u001b[0m in \u001b[0;36m<module>\u001b[0;34m()\u001b[0m\n\u001b[1;32m      1\u001b[0m \u001b[0;31m# 檢查標點符號， \\r \\n  。\u001b[0m\u001b[0;34m\u001b[0m\u001b[0;34m\u001b[0m\u001b[0;34m\u001b[0m\u001b[0m\n\u001b[1;32m      2\u001b[0m \u001b[0;31m# 跑KeyError代表vocabulary_內沒有它，代表沒有被辨識成詞彙，這正是我們要的結果\u001b[0m\u001b[0;34m\u001b[0m\u001b[0;34m\u001b[0m\u001b[0;34m\u001b[0m\u001b[0m\n\u001b[0;32m----> 3\u001b[0;31m \u001b[0mvec\u001b[0m\u001b[0;34m.\u001b[0m\u001b[0mvocabulary_\u001b[0m\u001b[0;34m[\u001b[0m\u001b[0;34m\" 。\"\u001b[0m\u001b[0;34m]\u001b[0m\u001b[0;34m\u001b[0m\u001b[0;34m\u001b[0m\u001b[0m\n\u001b[0m",
            "\u001b[0;31mKeyError\u001b[0m: ' 。'"
          ]
        }
      ]
    },
    {
      "cell_type": "markdown",
      "metadata": {
        "id": "1kMiWfnTBjRj"
      },
      "source": [
        "class sklearn.naive_bayes.MultinomialNB(*, alpha=1.0, fit_prior=True, class_prior=None)\n",
        "alpha=平滑係數，可以用浮點數，預設值是1,若設為0則是不使用平滑\n",
        "float, default=1.0\n",
        "Additive (Laplace/Lidstone) smoothing parameter (0 for no smoothing)."
      ]
    },
    {
      "cell_type": "code",
      "metadata": {
        "colab": {
          "base_uri": "https://localhost:8080/"
        },
        "id": "4x80hLF1s9iu",
        "outputId": "d9eb553e-f5c8-4340-beed-1a0db48f63ec"
      },
      "source": [
        "# 上面資料都清洗好了，可以開始訓練模型了\n",
        "# 開始分類進行模型訓練\n",
        "# 從sklearn的單純貝氏的模組內載入MultinomialNB 多項式型的機率\n",
        "from sklearn.naive_bayes import MultinomialNB\n",
        "clf = MultinomialNB(alpha=0.01)\n",
        "clf.fit(x_train_count, y_train)\n",
        "# 這裡的fit跟上面CountVectorizer用的fit是不同功能\n",
        "# fit(X, y) Fit Naive Bayes classifier according to X, y"
      ],
      "execution_count": 71,
      "outputs": [
        {
          "output_type": "execute_result",
          "data": {
            "text/plain": [
              "MultinomialNB(alpha=0.01, class_prior=None, fit_prior=True)"
            ]
          },
          "metadata": {
            "tags": []
          },
          "execution_count": 71
        }
      ]
    },
    {
      "cell_type": "code",
      "metadata": {
        "colab": {
          "base_uri": "https://localhost:8080/"
        },
        "id": "eeMoZ-8dvI36",
        "outputId": "a4c67d00-a2c2-4780-a403-8fe1d6a24502"
      },
      "source": [
        "# 模型訓練好了，接下來要把測資丟進去模型內來計算測資準確度\n",
        "# 計算準確度數據的模組 accuracy_score\n",
        "from sklearn.metrics import accuracy_score\n",
        "pre = clf.predict(x_test_count)\n",
        "accuracy_score(pre, y_test)"
      ],
      "execution_count": 72,
      "outputs": [
        {
          "output_type": "execute_result",
          "data": {
            "text/plain": [
              "0.8333333333333334"
            ]
          },
          "metadata": {
            "tags": []
          },
          "execution_count": 72
        }
      ]
    },
    {
      "cell_type": "code",
      "metadata": {
        "colab": {
          "base_uri": "https://localhost:8080/",
          "height": 142
        },
        "id": "PbRdMn-fwYJL",
        "outputId": "26314ba9-ca28-4a2c-aee8-599e361fb419"
      },
      "source": [
        "# 混肴矩陣\n",
        "# 測試完了，要來看測試結果，當答案為ABC時，在模型中，各自被預測成什麼\n",
        "from sklearn.metrics import confusion_matrix\n",
        "mat = confusion_matrix(y_test, pre)\n",
        "\n",
        "# u = train[\"作者\"].unique() 在上面\n",
        "pd.DataFrame(mat,\n",
        "             columns=[\"{}(預測)\".format(name) for name in u],\n",
        "             index=[\"{}(正確)\".format(name) for name in u])"
      ],
      "execution_count": 73,
      "outputs": [
        {
          "output_type": "execute_result",
          "data": {
            "text/html": [
              "<div>\n",
              "<style scoped>\n",
              "    .dataframe tbody tr th:only-of-type {\n",
              "        vertical-align: middle;\n",
              "    }\n",
              "\n",
              "    .dataframe tbody tr th {\n",
              "        vertical-align: top;\n",
              "    }\n",
              "\n",
              "    .dataframe thead th {\n",
              "        text-align: right;\n",
              "    }\n",
              "</style>\n",
              "<table border=\"1\" class=\"dataframe\">\n",
              "  <thead>\n",
              "    <tr style=\"text-align: right;\">\n",
              "      <th></th>\n",
              "      <th>李白(預測)</th>\n",
              "      <th>杜甫(預測)</th>\n",
              "      <th>白居易(預測)</th>\n",
              "    </tr>\n",
              "  </thead>\n",
              "  <tbody>\n",
              "    <tr>\n",
              "      <th>李白(正確)</th>\n",
              "      <td>8</td>\n",
              "      <td>1</td>\n",
              "      <td>1</td>\n",
              "    </tr>\n",
              "    <tr>\n",
              "      <th>杜甫(正確)</th>\n",
              "      <td>0</td>\n",
              "      <td>9</td>\n",
              "      <td>1</td>\n",
              "    </tr>\n",
              "    <tr>\n",
              "      <th>白居易(正確)</th>\n",
              "      <td>1</td>\n",
              "      <td>1</td>\n",
              "      <td>8</td>\n",
              "    </tr>\n",
              "  </tbody>\n",
              "</table>\n",
              "</div>"
            ],
            "text/plain": [
              "         李白(預測)  杜甫(預測)  白居易(預測)\n",
              "李白(正確)        8       1        1\n",
              "杜甫(正確)        0       9        1\n",
              "白居易(正確)       1       1        8"
            ]
          },
          "metadata": {
            "tags": []
          },
          "execution_count": 73
        }
      ]
    },
    {
      "cell_type": "code",
      "metadata": {
        "colab": {
          "base_uri": "https://localhost:8080/"
        },
        "id": "hCYPE_RPzjHF",
        "outputId": "71e103f2-2f28-4aa6-faaa-98dcd9eb4c1f"
      },
      "source": [
        "# 輸入資料，用模型預測答案\n",
        "poem = input(\"輸入詩：\")\n",
        "# 先將文本用jieba做字彙分割\n",
        "poems = [poemcut(poem)]\n",
        "# 上面在資料清洗時，用CountVectorizer方法，得出的字彙list（已fit過）\n",
        "# 將文本字彙分割後的結果，丟進 transform 讓文本內的字彙，根據fit的list，用transform留下跟list有關的文字\n",
        "poems_count = vec.transform(poems)\n",
        "print(\"在fit list內的詞彙\",poems_count)\n",
        "# 使用上面訓練過後的模型clf，將清洗過的文本丟進去\n",
        "pre = clf.predict(poems_count)[0]\n",
        "print(\"預測的答案index值\", pre)\n",
        "print(\"答案是：\", index2name[pre])\n",
        "pre_proba = clf.predict_proba(poems_count)[0]\n",
        "for name, proba in zip(u, pre_proba):\n",
        "  print(name, \"的機率是\", proba)"
      ],
      "execution_count": 76,
      "outputs": [
        {
          "output_type": "stream",
          "text": [
            "輸入詩：這些日子以來 突然間變成一片空白 這段日子是否 沉睡中忽然哭醒過來 太多意外 沒想要勉強我感慨 太多困難 會讓人害怕看未來 你知道我不想離開 你知道我有多無奈 如果時間一直走得那麼快 我怎麼對你依賴 是我的海 陽光的下午慢慢感染 當海不藍 飛起的夢想都變塵埃\n",
            "在fit list內的詞彙   (0, 323)\t1\n",
            "  (0, 6899)\t1\n",
            "  (0, 17625)\t1\n",
            "  (0, 18483)\t1\n",
            "  (0, 21602)\t2\n",
            "  (0, 22510)\t1\n",
            "  (0, 33965)\t2\n",
            "  (0, 50622)\t1\n",
            "預測的答案index值 2\n",
            "答案是： 白居易\n",
            "李白 的機率是 0.011854448318374377\n",
            "杜甫 的機率是 0.10706675567318995\n",
            "白居易 的機率是 0.8810787960084373\n"
          ],
          "name": "stdout"
        }
      ]
    }
  ]
}